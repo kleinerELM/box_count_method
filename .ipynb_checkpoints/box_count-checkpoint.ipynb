{
 "cells": [
  {
   "cell_type": "code",
   "execution_count": 1,
   "metadata": {},
   "outputs": [
    {
     "ename": "SyntaxError",
     "evalue": "(unicode error) 'unicodeescape' codec can't decode bytes in position 2-3: truncated \\UXXXXXXXX escape (<ipython-input-1-5b3d6bdec2e0>, line 3)",
     "output_type": "error",
     "traceback": [
      "\u001b[1;36m  File \u001b[1;32m\"<ipython-input-1-5b3d6bdec2e0>\"\u001b[1;36m, line \u001b[1;32m3\u001b[0m\n\u001b[1;33m    print(os.path.dirname('C:\\Users\\Florian Kleiner\\Documents\\Nextcloud\\Uni\\WdB\\REM\\Fiji Plugins & Macros\\Selbstgeschrieben'))\u001b[0m\n\u001b[1;37m                          ^\u001b[0m\n\u001b[1;31mSyntaxError\u001b[0m\u001b[1;31m:\u001b[0m (unicode error) 'unicodeescape' codec can't decode bytes in position 2-3: truncated \\UXXXXXXXX escape\n"
     ]
    }
   ],
   "source": [
    "import os\n",
    "print('asdf')\n",
    "print(os.path.dirname('C:\\Users\\Florian Kleiner\\Documents\\Nextcloud\\Uni\\WdB\\REM\\Fiji Plugins & Macros\\Selbstgeschrieben'))\n",
    "print(os.path.dirname('C:\\Users\\Florian Kleiner\\Documents\\Nextcloud\\Uni\\WdB\\REM\\Fiji Plugins & Macros\\Selbstgeschrieben\\\\'))"
   ]
  },
  {
   "cell_type": "code",
   "execution_count": null,
   "metadata": {},
   "outputs": [],
   "source": []
  }
 ],
 "metadata": {
  "kernelspec": {
   "display_name": "Python 3",
   "language": "python",
   "name": "python3"
  },
  "language_info": {
   "codemirror_mode": {
    "name": "ipython",
    "version": 3
   },
   "file_extension": ".py",
   "mimetype": "text/x-python",
   "name": "python",
   "nbconvert_exporter": "python",
   "pygments_lexer": "ipython3",
   "version": "3.8.6"
  }
 },
 "nbformat": 4,
 "nbformat_minor": 2
}
